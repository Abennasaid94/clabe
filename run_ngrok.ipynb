{
  "cells": [
    {
      "cell_type": "markdown",
      "metadata": {
        "id": "view-in-github",
        "colab_type": "text"
      },
      "source": [
        "<a href=\"https://colab.research.google.com/github/Abennasaid94/clabe/blob/main/run_ngrok.ipynb\" target=\"_parent\"><img src=\"https://colab.research.google.com/assets/colab-badge.svg\" alt=\"Open In Colab\"/></a>"
      ]
    },
    {
      "cell_type": "code",
      "execution_count": 1,
      "metadata": {
        "colab": {
          "base_uri": "https://localhost:8080/"
        },
        "id": "QKMuy_v_MWzK",
        "outputId": "012c832c-8774-4975-b85b-9b3f7b2ee639"
      },
      "outputs": [
        {
          "output_type": "stream",
          "name": "stdout",
          "text": [
            "--2024-05-27 19:33:15--  https://bin.equinox.io/c/bNyj1mQVY4c/ngrok-v3-stable-linux-amd64.tgz\n",
            "Resolving bin.equinox.io (bin.equinox.io)... 54.161.241.46, 52.202.168.65, 18.205.222.128, ...\n",
            "Connecting to bin.equinox.io (bin.equinox.io)|54.161.241.46|:443... connected.\n",
            "HTTP request sent, awaiting response... 200 OK\n",
            "Length: 8965855 (8.5M) [application/octet-stream]\n",
            "Saving to: ‘ngrok-v3-stable-linux-amd64.tgz’\n",
            "\n",
            "ngrok-v3-stable-lin 100%[===================>]   8.55M  14.9MB/s    in 0.6s    \n",
            "\n",
            "2024-05-27 19:33:16 (14.9 MB/s) - ‘ngrok-v3-stable-linux-amd64.tgz’ saved [8965855/8965855]\n",
            "\n"
          ]
        }
      ],
      "source": [
        "!wget https://bin.equinox.io/c/bNyj1mQVY4c/ngrok-v3-stable-linux-amd64.tgz"
      ]
    },
    {
      "cell_type": "code",
      "execution_count": 2,
      "metadata": {
        "colab": {
          "base_uri": "https://localhost:8080/"
        },
        "id": "4asAHXahMgGk",
        "outputId": "b734eb1c-54f9-4af7-878b-9dd9c41343d3"
      },
      "outputs": [
        {
          "output_type": "stream",
          "name": "stdout",
          "text": [
            "ngrok\n"
          ]
        }
      ],
      "source": [
        "!tar -xvf ngrok-v3-stable-linux-amd64.tgz"
      ]
    },
    {
      "cell_type": "code",
      "execution_count": 7,
      "metadata": {
        "id": "A0lp2gp8N2f-"
      },
      "outputs": [],
      "source": [
        "!cp /root/.config/ngrok/ngrok.yml ."
      ]
    },
    {
      "cell_type": "code",
      "source": [
        "!cp ngrok.yml /root/.config/ngrok/ngrok.yml"
      ],
      "metadata": {
        "id": "rhVud1YWjrRm"
      },
      "execution_count": 1,
      "outputs": []
    },
    {
      "cell_type": "code",
      "source": [
        "!./ngrok start --all --log=stdout"
      ],
      "metadata": {
        "colab": {
          "base_uri": "https://localhost:8080/"
        },
        "id": "BSNOWgypcYjK",
        "outputId": "639383bc-00e6-4d7e-f158-dac3793e69ee"
      },
      "execution_count": 2,
      "outputs": [
        {
          "output_type": "stream",
          "name": "stdout",
          "text": [
            "\u001b[32mINFO\u001b[0m[05-27|19:40:42] no configuration paths supplied \n",
            "\u001b[32mINFO\u001b[0m[05-27|19:40:42] using configuration at default config path \u001b[32mpath\u001b[0m=/root/.config/ngrok/ngrok.yml\n",
            "\u001b[32mINFO\u001b[0m[05-27|19:40:42] open config file                         \u001b[32mpath\u001b[0m=/root/.config/ngrok/ngrok.yml \u001b[32merr\u001b[0m=nil\n",
            "t=2024-05-27T19:40:42+0000 lvl=info msg=\"starting web service\" obj=web addr=127.0.0.1:4040 allow_hosts=[]\n",
            "t=2024-05-27T19:40:42+0000 lvl=info msg=\"client session established\" obj=tunnels.session\n",
            "t=2024-05-27T19:40:42+0000 lvl=info msg=\"tunnel session started\" obj=tunnels.session\n",
            "t=2024-05-27T19:40:42+0000 lvl=info msg=\"started tunnel\" obj=tunnels name=branche-2-cl addr=//localhost:6321 url=tcp://0.tcp.us-cal-1.ngrok.io:15898\n",
            "t=2024-05-27T19:40:42+0000 lvl=info msg=\"started tunnel\" obj=tunnels name=branche-3 addr=//localhost:6305 url=tcp://0.tcp.us-cal-1.ngrok.io:12495\n",
            "t=2024-05-27T19:40:42+0000 lvl=eror msg=\"session closing\" obj=tunnels.session err=\"failed to start tunnel: Your account may not run more than 3 tunnels over a single ngrok agent session.\\nThe tunnels already running on this session are:\\ntn_2h4257yHKvbtrTYic6hH7Im5N97, tn_2h4258xNLMql7qroEgGINFxZtHQ, tn_2h42573RbQb0AF2isjODP4iSyEj\\n\\r\\n\\r\\nERR_NGROK_324\\r\\n\"\n",
            "t=2024-05-27T19:40:42+0000 lvl=info msg=\"received stop request\" obj=app stopReq=\"{err:{Inner:{Inner:0xc000974050}} restart:false}\"\n",
            "t=2024-05-27T19:40:42+0000 lvl=eror msg=\"terminating with error\" obj=app err=\"failed to start tunnel: Your account may not run more than 3 tunnels over a single ngrok agent session.\\nThe tunnels already running on this session are:\\ntn_2h4257yHKvbtrTYic6hH7Im5N97, tn_2h4258xNLMql7qroEgGINFxZtHQ, tn_2h42573RbQb0AF2isjODP4iSyEj\\n\\r\\n\\r\\nERR_NGROK_324\\r\\n\"\n",
            "t=2024-05-27T19:40:42+0000 lvl=info msg=\"started tunnel\" obj=tunnels name=branche-2 addr=//localhost:6304 url=tcp://0.tcp.us-cal-1.ngrok.io:12099\n",
            "t=2024-05-27T19:40:42+0000 lvl=info msg=\"accept failed\" obj=tunnels.session obj=csess id=ef7c269dbe2a err=\"reconnecting session closed\"\n",
            "t=2024-05-27T19:40:42+0000 lvl=info msg=\"failed to accept connection: Listener closed\" obj=tunnels.session clientid=f4f9844c0937a20dec0b6f8b1348d5e8\n",
            "t=2024-05-27T19:40:42+0000 lvl=warn msg=\"Stopping forwarder\" name=branche-3 acceptErr=\"failed to accept connection: Listener closed\"\n",
            "t=2024-05-27T19:40:42+0000 lvl=warn msg=\"Error restarting forwarder\" name=branche-3 err=\"failed to start tunnel: session closed\"\n",
            "t=2024-05-27T19:40:42+0000 lvl=info msg=\"failed to accept connection: Listener closed\" obj=tunnels.session clientid=568d61ed6cd6fc48f52a0069abc0ce7f\n",
            "t=2024-05-27T19:40:42+0000 lvl=warn msg=\"Stopping forwarder\" name=branche-2 acceptErr=\"failed to accept connection: Listener closed\"\n",
            "t=2024-05-27T19:40:42+0000 lvl=info msg=\"failed to accept connection: Listener closed\" obj=tunnels.session clientid=3590d64e55f5641f67e494ddadda0a3a\n",
            "t=2024-05-27T19:40:42+0000 lvl=warn msg=\"Stopping forwarder\" name=branche-2-cl acceptErr=\"failed to accept connection: Listener closed\"\n",
            "t=2024-05-27T19:40:42+0000 lvl=info msg=\"no more state changes\" obj=tunnels.session\n",
            "t=2024-05-27T19:40:42+0000 lvl=warn msg=\"Error restarting forwarder\" name=branche-2-cl err=\"failed to start tunnel: session closed\"\n",
            "t=2024-05-27T19:40:42+0000 lvl=warn msg=\"Error restarting forwarder\" name=branche-2 err=\"failed to start tunnel: session closed\"\n",
            "t=2024-05-27T19:40:42+0000 lvl=crit msg=\"command failed\" err=\"failed to start tunnel: Your account may not run more than 3 tunnels over a single ngrok agent session.\\nThe tunnels already running on this session are:\\ntn_2h4257yHKvbtrTYic6hH7Im5N97, tn_2h4258xNLMql7qroEgGINFxZtHQ, tn_2h42573RbQb0AF2isjODP4iSyEj\\n\\r\\n\\r\\nERR_NGROK_324\\r\\n\"\n",
            "start - start tunnels by name from the configuration file\n",
            "\n",
            "USAGE:\n",
            "  ngrok start [flags]\n",
            "\n",
            "AUTHOR:\n",
            "  ngrok - <support@ngrok.com>\n",
            "\n",
            "COMMANDS: \n",
            "  config          update or migrate ngrok's configuration file\n",
            "  http            start an HTTP tunnel\n",
            "  tcp             start a TCP tunnel\n",
            "  tunnel          start a tunnel for use with a tunnel-group backend\n",
            "\n",
            "EXAMPLES: \n",
            "  ngrok http 80                                                 # secure public URL for port 80 web server\n",
            "  ngrok http --domain baz.ngrok.dev 8080                        # port 8080 available at baz.ngrok.dev\n",
            "  ngrok tcp 22                                                  # tunnel arbitrary TCP traffic to port 22\n",
            "  ngrok http 80 --oauth=google --oauth-allow-email=foo@foo.com  # secure your app with oauth\n",
            "\n",
            "Paid Features: \n",
            "  ngrok http 80 --domain mydomain.com                           # run ngrok with your own custom domain\n",
            "  ngrok http 80 --allow-cidr 2600:8c00::a03c:91ee:fe69:9695/32  # run ngrok with IP policy restrictions\n",
            "  Upgrade your account at https://dashboard.ngrok.com/billing/subscription to access paid features\n",
            "\n",
            "Upgrade your account at https://dashboard.ngrok.com/billing/subscription to access paid features\n",
            "\n",
            "Flags:\n",
            "  -h, --help      help for ngrok\n",
            "\n",
            "Use \"ngrok [command] --help\" for more information about a command.\n",
            "\n",
            "ERROR:  failed to start tunnel: Your account may not run more than 3 tunnels over a single ngrok agent session.\n",
            "ERROR:  The tunnels already running on this session are:\n",
            "ERROR:  tn_2h4257yHKvbtrTYic6hH7Im5N97, tn_2h4258xNLMql7qroEgGINFxZtHQ, tn_2h42573RbQb0AF2isjODP4iSyEj\n",
            "ERROR:  \n",
            "ERROR:  \n",
            "ERROR:  ERR_NGROK_324\n",
            "ERROR:  \n"
          ]
        }
      ]
    },
    {
      "cell_type": "markdown",
      "metadata": {
        "id": "z3pyXAknOTKR"
      },
      "source": []
    }
  ],
  "metadata": {
    "colab": {
      "provenance": [],
      "authorship_tag": "ABX9TyNrWszz7hEafelRMHwTgvsx",
      "include_colab_link": true
    },
    "kernelspec": {
      "display_name": "Python 3",
      "name": "python3"
    },
    "language_info": {
      "name": "python"
    }
  },
  "nbformat": 4,
  "nbformat_minor": 0
}