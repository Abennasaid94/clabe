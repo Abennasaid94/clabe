{
  "cells": [
    {
      "cell_type": "markdown",
      "metadata": {
        "id": "view-in-github",
        "colab_type": "text"
      },
      "source": [
        "<a href=\"https://colab.research.google.com/github/Abennasaid94/clabe/blob/main/run_ngrok.ipynb\" target=\"_parent\"><img src=\"https://colab.research.google.com/assets/colab-badge.svg\" alt=\"Open In Colab\"/></a>"
      ]
    },
    {
      "cell_type": "code",
      "execution_count": null,
      "metadata": {
        "colab": {
          "base_uri": "https://localhost:8080/"
        },
        "id": "QKMuy_v_MWzK",
        "outputId": "5bd50a4a-3fa6-4d14-8694-e1d03cc0613e"
      },
      "outputs": [
        {
          "name": "stdout",
          "output_type": "stream",
          "text": [
            "--2024-05-27 17:55:57--  https://bin.equinox.io/c/bNyj1mQVY4c/ngrok-v3-stable-linux-amd64.tgz\n",
            "Resolving bin.equinox.io (bin.equinox.io)... 54.161.241.46, 52.202.168.65, 18.205.222.128, ...\n",
            "Connecting to bin.equinox.io (bin.equinox.io)|54.161.241.46|:443... connected.\n",
            "HTTP request sent, awaiting response... 200 OK\n",
            "Length: 8965855 (8.5M) [application/octet-stream]\n",
            "Saving to: ‘ngrok-v3-stable-linux-amd64.tgz’\n",
            "\n",
            "\r          ngrok-v3-   0%[                    ]       0  --.-KB/s               \rngrok-v3-stable-lin 100%[===================>]   8.55M  --.-KB/s    in 0.07s   \n",
            "\n",
            "2024-05-27 17:55:57 (128 MB/s) - ‘ngrok-v3-stable-linux-amd64.tgz’ saved [8965855/8965855]\n",
            "\n"
          ]
        }
      ],
      "source": [
        "!wget https://bin.equinox.io/c/bNyj1mQVY4c/ngrok-v3-stable-linux-amd64.tgz"
      ]
    },
    {
      "cell_type": "code",
      "execution_count": null,
      "metadata": {
        "colab": {
          "base_uri": "https://localhost:8080/"
        },
        "id": "4asAHXahMgGk",
        "outputId": "13220638-4701-4455-da98-a9b78c269469"
      },
      "outputs": [
        {
          "name": "stdout",
          "output_type": "stream",
          "text": [
            "ngrok\n"
          ]
        }
      ],
      "source": [
        "!tar -xvf ngrok-v3-stable-linux-amd64.tgz"
      ]
    },
    {
      "cell_type": "code",
      "execution_count": null,
      "metadata": {
        "colab": {
          "base_uri": "https://localhost:8080/"
        },
        "id": "A0lp2gp8N2f-",
        "outputId": "c6e4782f-c2b8-43eb-88cc-02c59f749334"
      },
      "outputs": [
        {
          "name": "stdout",
          "output_type": "stream",
          "text": [
            "\u001b[?1l\u001b>\u001b[?2004lReceived SIGHUP or SIGTERM\n"
          ]
        }
      ],
      "source": [
        "!nano /root/.config/ngrok/ngrok.yml"
      ]
    },
    {
      "cell_type": "code",
      "source": [
        "!./ngrok start --all --log=stdout"
      ],
      "metadata": {
        "colab": {
          "base_uri": "https://localhost:8080/"
        },
        "id": "BSNOWgypcYjK",
        "outputId": "32a13c21-7dfa-4d25-a2ce-7789b0f6ec05"
      },
      "execution_count": null,
      "outputs": [
        {
          "metadata": {
            "tags": null
          },
          "name": "stdout",
          "output_type": "stream",
          "text": [
            "\u001b[32mINFO\u001b[0m[05-27|19:07:57] no configuration paths supplied \n",
            "\u001b[32mINFO\u001b[0m[05-27|19:07:57] using configuration at default config path \u001b[32mpath\u001b[0m=/root/.config/ngrok/ngrok.yml\n",
            "\u001b[32mINFO\u001b[0m[05-27|19:07:57] open config file                         \u001b[32mpath\u001b[0m=/root/.config/ngrok/ngrok.yml \u001b[32merr\u001b[0m=nil\n",
            "t=2024-05-27T19:07:57+0000 lvl=info msg=\"starting web service\" obj=web addr=127.0.0.1:4040 allow_hosts=[]\n",
            "t=2024-05-27T19:07:57+0000 lvl=info msg=\"client session established\" obj=tunnels.session\n",
            "t=2024-05-27T19:07:57+0000 lvl=info msg=\"tunnel session started\" obj=tunnels.session\n",
            "t=2024-05-27T19:07:57+0000 lvl=info msg=\"started tunnel\" obj=tunnels name=branche-2-cl addr=//localhost:6320 url=tcp://4.tcp.ngrok.io:10231\n",
            "t=2024-05-27T19:07:57+0000 lvl=info msg=\"started tunnel\" obj=tunnels name=branche-2 addr=//localhost:6303 url=tcp://6.tcp.ngrok.io:15071\n"
          ]
        }
      ]
    },
    {
      "cell_type": "markdown",
      "metadata": {
        "id": "z3pyXAknOTKR"
      },
      "source": []
    }
  ],
  "metadata": {
    "colab": {
      "provenance": [],
      "authorship_tag": "ABX9TyP13g4o7SuquaTsRTthNY/p",
      "include_colab_link": true
    },
    "kernelspec": {
      "display_name": "Python 3",
      "name": "python3"
    },
    "language_info": {
      "name": "python"
    }
  },
  "nbformat": 4,
  "nbformat_minor": 0
}